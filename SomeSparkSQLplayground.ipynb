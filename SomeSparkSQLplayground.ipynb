{
 "cells": [
  {
   "cell_type": "code",
   "execution_count": 229,
   "id": "240c6f7f",
   "metadata": {},
   "outputs": [],
   "source": [
    "import numpy as np\n",
    "import pandas as pd"
   ]
  },
  {
   "cell_type": "code",
   "execution_count": 230,
   "id": "cfac6479",
   "metadata": {},
   "outputs": [],
   "source": [
    "\n",
    "import pyspark\n",
    "from pyspark.sql import SparkSession"
   ]
  },
  {
   "cell_type": "code",
   "execution_count": 231,
   "id": "bc30bf13",
   "metadata": {},
   "outputs": [],
   "source": [
    "from pyspark.sql import SparkSession\n",
    "spark = SparkSession.builder.appName('abc').getOrCreate()"
   ]
  },
  {
   "cell_type": "code",
   "execution_count": 232,
   "id": "60f371d0",
   "metadata": {},
   "outputs": [],
   "source": [
    "QuestionResponseFact = spark.read.csv('QuestionResponseFact.csv', header=True,inferSchema=None)\n",
    "QuestionDimension = spark.read.csv('QuestionDimension.csv', header=True,inferSchema=None)\n",
    "CourseDimension = spark.read.csv('CourseDimension.csv', header=True,inferSchema=None)\n",
    "CourseGradeFact = spark.read.csv('CourseGradeFact.csv', header=True,inferSchema=None)\n",
    "EnrollmentFact = spark.read.csv('EnrollmentFact.csv', header=True,inferSchema=None)\n",
    "ResponseDimension = spark.read.csv('ResponseDimension.csv', header=True,inferSchema=None)\n",
    "StudentFact = spark.read.csv('StudentFact.csv', header=True,inferSchema=None)\n",
    "QuestionResponseFact.createOrReplaceTempView(\"QuestionResponseFact\")\n",
    "QuestionDimension.createOrReplaceTempView(\"QuestionDimension\")\n",
    "CourseDimension.createOrReplaceTempView(\"CourseDimension\")\n",
    "CourseGradeFact.createOrReplaceTempView(\"CourseGradeFact\")\n",
    "EnrollmentFact.createOrReplaceTempView(\"EnrollmentFact\")\n",
    "ResponseDimension.createOrReplaceTempView(\"ResponseDimension\")\n",
    "StudentFact.createOrReplaceTempView(\"StudentFact\")\n"
   ]
  },
  {
   "cell_type": "code",
   "execution_count": 233,
   "id": "8681ddbe",
   "metadata": {},
   "outputs": [
    {
     "name": "stdout",
     "output_type": "stream",
     "text": [
      "+------------------+---------+----------+----------+\n",
      "|questionresponseid|studentid|questionid|responseid|\n",
      "+------------------+---------+----------+----------+\n",
      "|           9990128|        8|         2|         1|\n",
      "|           9990148|        8|         4|         1|\n",
      "|           9990149|        9|         4|         1|\n",
      "|           9990224|        4|         2|         2|\n",
      "|           9990229|        9|         2|         2|\n",
      "|           9990233|        3|         3|         2|\n",
      "|           9990234|        4|         3|         2|\n",
      "|           9990235|        5|         3|         2|\n",
      "|           9990236|        6|         3|         2|\n",
      "|           9990239|        9|         3|         2|\n",
      "|           9990314|        4|         1|         3|\n",
      "|           9990321|        1|         2|         3|\n",
      "|           9990322|        2|         2|         3|\n",
      "|           9990323|        3|         2|         3|\n",
      "|           9990325|        5|         2|         3|\n",
      "|           9990332|        2|         3|         3|\n",
      "|           9990341|        1|         4|         3|\n",
      "|           9990342|        2|         4|         3|\n",
      "|           9990343|        3|         4|         3|\n",
      "|           9990347|        7|         4|         3|\n",
      "+------------------+---------+----------+----------+\n",
      "only showing top 20 rows\n",
      "\n",
      "+----------+--------------------+\n",
      "|questionid|            question|\n",
      "+----------+--------------------+\n",
      "|         1|I am satisfied wi...|\n",
      "|         2|I am satisfied wi...|\n",
      "|         3|I am satisfied wi...|\n",
      "|         4|I am satisfied wi...|\n",
      "+----------+--------------------+\n",
      "\n",
      "+--------+--------------------+\n",
      "|courseid|          coursename|\n",
      "+--------+--------------------+\n",
      "|       1|     Lesson Planning|\n",
      "|       2|   Classroom Culture|\n",
      "|       3|         Instruction|\n",
      "|       4|Assessing Student...|\n",
      "+--------+--------------------+\n",
      "\n",
      "+-------------+---------+--------+-----------+\n",
      "|coursegradeid|studentid|courseid|coursegrade|\n",
      "+-------------+---------+--------+-----------+\n",
      "|         2345|        1|       1|          3|\n",
      "|         2346|        1|       2|2.799999952|\n",
      "|         2347|        1|       3|          4|\n",
      "|         2348|        1|       3|          3|\n",
      "|         2349|        1|       3|          2|\n",
      "|         2350|        1|       4|          3|\n",
      "|         2351|        2|       1|        2.5|\n",
      "|         2352|        2|       2|2.700000048|\n",
      "|         2353|        2|       3|1.299999952|\n",
      "|         2354|        2|       4|          2|\n",
      "|         2355|        3|       1|2.200000048|\n",
      "|         2356|        3|       1|          3|\n",
      "|         2357|        3|       1|          1|\n",
      "|         2358|        3|       1|        2.5|\n",
      "|         2359|        3|       2|0.800000012|\n",
      "|         2360|        3|       3|2.400000095|\n",
      "|         2361|        3|       4|1.600000024|\n",
      "|         2362|        4|       1|2.700000048|\n",
      "|         2363|        4|       2|          3|\n",
      "|         2364|        4|       3|          4|\n",
      "+-------------+---------+--------+-----------+\n",
      "only showing top 20 rows\n",
      "\n",
      "+------------+---------+------+----------------+---------+---------+\n",
      "|enrollmentid|studentid|cohort|enrollmentstatus|startdate|  enddate|\n",
      "+------------+---------+------+----------------+---------+---------+\n",
      "|       20201|        1|  2020|        enrolled| 7/1/2020|     null|\n",
      "|       20204|        4|  2020|        enrolled| 7/1/2020|     null|\n",
      "|       20205|        5|  2020|        enrolled| 7/1/2020|     null|\n",
      "|       20212|        2|  2021|        enrolled| 7/1/2021|     null|\n",
      "|       20213|        3|  2021|        enrolled|7/20/2021|     null|\n",
      "|       20216|        6|  2021|        enrolled|7/21/2021|     null|\n",
      "|       20217|        7|  2021|        enrolled|7/22/2021|     null|\n",
      "|       20218|        8|  2021|        enrolled|7/17/2021|     null|\n",
      "|       20219|        9|  2021|        enrolled|7/23/2021|     null|\n",
      "|      201619|       19|  2016|          exited| 5/5/2016| 3/2/2017|\n",
      "|      201819|       19|  2018|          exited|7/18/2018|10/1/2018|\n",
      "|      201825|       25|  2018|          exited|7/14/2018|10/1/2018|\n",
      "|      201826|       26|  2018|          exited|7/14/2018|10/1/2018|\n",
      "|      201828|       28|  2018|          exited|7/14/2018|10/1/2018|\n",
      "|      201914|       14|  2019|        enrolled|7/14/2019|     null|\n",
      "|      201915|       15|  2019|        enrolled|7/14/2019|     null|\n",
      "|      201916|       16|  2019|        enrolled|7/14/2019|     null|\n",
      "|      201917|       17|  2019|        enrolled|7/14/2019|     null|\n",
      "|      201918|       18|  2019|        enrolled|7/14/2019|     null|\n",
      "|      201919|       19|  2019|        enrolled|7/14/2019|     null|\n",
      "+------------+---------+------+----------------+---------+---------+\n",
      "only showing top 20 rows\n",
      "\n",
      "+----------+--------------------+\n",
      "|responseid|            response|\n",
      "+----------+--------------------+\n",
      "|         1|(1) Strongly disa...|\n",
      "|         2|        (2) Disagree|\n",
      "|         3|         (3) Neutral|\n",
      "|         4|           (4) Agree|\n",
      "|         5|  (5) Strongly agree|\n",
      "+----------+--------------------+\n",
      "\n",
      "+---------+----------+---+---------------+-------+---+---------------+-------------+\n",
      "|studentid|    campus|sex|      ethnicity|   race|age|   financialaid|       degree|\n",
      "+---------+----------+---+---------------+-------+---+---------------+-------------+\n",
      "|        1|     Texas|  F|           null|  White| 24|   Receives Aid|       Master|\n",
      "|        2|     Texas|  F|           null|  White| 23|   Receives Aid|       Master|\n",
      "|        3|     Texas|  F|Hispanic/Latinx|  White| 21|Receives No Aid|       Master|\n",
      "|        4|  Lousiana|  F|           null|  Black| 21|   Receives Aid|Certification|\n",
      "|        5|  New York|  F|           null|Unknown| 22|   Receives Aid|       Master|\n",
      "|        6|California|  M|           null|  Black| 22|Receives No Aid|       Master|\n",
      "|        7|  New York|  M|           null|  White| 22|Receives No Aid|       Master|\n",
      "|        8|  New York|  F|           null|  White| 23|   Receives Aid|       Master|\n",
      "|        9|California|  M|           null|  Black| 21|Receives No Aid|       Master|\n",
      "|       10|  New York|  M|           null|  Asian| 21|   Receives Aid|Certification|\n",
      "|       11|  Lousiana|  F|           null|  Black| 21|   Receives Aid|Certification|\n",
      "|       12|California|  F|           null|  White| 21|   Receives Aid|       Master|\n",
      "|       13|  Lousiana|  M|           null|   null| 21|Receives No Aid|Certification|\n",
      "|       14|  Lousiana|  M|           null|  White| 21|   Receives Aid|       Master|\n",
      "|       15|  New York|  M|           null|  Asian| 21|   Receives Aid|Certification|\n",
      "|       16|  Lousiana|  F|           null|  Black| 22|   Receives Aid|Certification|\n",
      "|       17|California|  F|           null|  Black| 22|   Receives Aid|       Master|\n",
      "|       18|  New York|  F|           null|  White| 22|   Receives Aid|       Master|\n",
      "|       19|California|  M|           null|  Black| 23|   Receives Aid|       Master|\n",
      "|       20|  Lousiana|  M|           null|  Black| 22|Receives No Aid|Certification|\n",
      "+---------+----------+---+---------------+-------+---+---------------+-------------+\n",
      "only showing top 20 rows\n",
      "\n"
     ]
    }
   ],
   "source": [
    "spark.sql(\"SELECT * FROM QuestionResponseFact\").show()\n",
    "spark.sql(\"SELECT * FROM QuestionDimension\").show()\n",
    "spark.sql(\"SELECT * FROM CourseDimension\").show()\n",
    "spark.sql(\"SELECT * FROM CourseGradeFact\").show()\n",
    "spark.sql(\"SELECT * FROM EnrollmentFact\").show()\n",
    "spark.sql(\"SELECT * FROM ResponseDimension\").show()\n",
    "spark.sql(\"SELECT * FROM StudentFact\").show()\n"
   ]
  },
  {
   "cell_type": "code",
   "execution_count": 234,
   "id": "f4f08f7d",
   "metadata": {},
   "outputs": [
    {
     "name": "stdout",
     "output_type": "stream",
     "text": [
      "+---------+-------------+--------+---+---------------+---+-----+--------+-----------+\n",
      "|studentid|       degree|  campus|sex|      ethnicity|age| race|courseid|coursegrade|\n",
      "+---------+-------------+--------+---+---------------+---+-----+--------+-----------+\n",
      "|        1|       Master|   Texas|  F|           null| 24|White|       4|          3|\n",
      "|        1|       Master|   Texas|  F|           null| 24|White|       3|          2|\n",
      "|        1|       Master|   Texas|  F|           null| 24|White|       3|          3|\n",
      "|        1|       Master|   Texas|  F|           null| 24|White|       3|          4|\n",
      "|        1|       Master|   Texas|  F|           null| 24|White|       2|2.799999952|\n",
      "|        1|       Master|   Texas|  F|           null| 24|White|       1|          3|\n",
      "|        2|       Master|   Texas|  F|           null| 23|White|       4|          2|\n",
      "|        2|       Master|   Texas|  F|           null| 23|White|       3|1.299999952|\n",
      "|        2|       Master|   Texas|  F|           null| 23|White|       2|2.700000048|\n",
      "|        2|       Master|   Texas|  F|           null| 23|White|       1|        2.5|\n",
      "|        3|       Master|   Texas|  F|Hispanic/Latinx| 21|White|       4|1.600000024|\n",
      "|        3|       Master|   Texas|  F|Hispanic/Latinx| 21|White|       3|2.400000095|\n",
      "|        3|       Master|   Texas|  F|Hispanic/Latinx| 21|White|       2|0.800000012|\n",
      "|        3|       Master|   Texas|  F|Hispanic/Latinx| 21|White|       1|        2.5|\n",
      "|        3|       Master|   Texas|  F|Hispanic/Latinx| 21|White|       1|          1|\n",
      "|        3|       Master|   Texas|  F|Hispanic/Latinx| 21|White|       1|          3|\n",
      "|        3|       Master|   Texas|  F|Hispanic/Latinx| 21|White|       1|2.200000048|\n",
      "|        4|Certification|Lousiana|  F|           null| 21|Black|       4|3.700000048|\n",
      "|        4|Certification|Lousiana|  F|           null| 21|Black|       3|          4|\n",
      "|        4|Certification|Lousiana|  F|           null| 21|Black|       2|          3|\n",
      "+---------+-------------+--------+---+---------------+---+-----+--------+-----------+\n",
      "only showing top 20 rows\n",
      "\n"
     ]
    }
   ],
   "source": [
    "StudentFactXEnrollmentFactXCourseGradeFact = spark.sql(\"SELECT StudentFact.studentid, \\\n",
    "            StudentFact.degree, \\\n",
    "          StudentFact.campus, StudentFact.sex, StudentFact.ethnicity, StudentFact.age, StudentFact.race, \\\n",
    "          CourseGradeFact.courseid, CourseGradeFact.coursegrade \\\n",
    "          FROM StudentFact \\\n",
    "          INNER JOIN \\\n",
    "          EnrollmentFact ON StudentFact.studentid=EnrollmentFact.studentid \\\n",
    "          INNER JOIN \\\n",
    "          CourseGradeFact ON StudentFact.studentid=CourseGradeFact.studentid\")\n",
    "StudentFactXEnrollmentFactXCourseGradeFact.show()"
   ]
  },
  {
   "cell_type": "code",
   "execution_count": 235,
   "id": "ca2cae74",
   "metadata": {},
   "outputs": [],
   "source": [
    "from pyspark.sql.functions import *"
   ]
  },
  {
   "cell_type": "markdown",
   "id": "3b630d5f",
   "metadata": {},
   "source": [
    "## BICOP"
   ]
  },
  {
   "cell_type": "code",
   "execution_count": 236,
   "id": "650943b7",
   "metadata": {},
   "outputs": [
    {
     "name": "stdout",
     "output_type": "stream",
     "text": [
      "+---------+-------------+--------+---+---------------+---+-----+--------+-----------+-----+\n",
      "|studentid|       degree|  campus|sex|      ethnicity|age| race|courseid|coursegrade|BICOP|\n",
      "+---------+-------------+--------+---+---------------+---+-----+--------+-----------+-----+\n",
      "|        1|       Master|   Texas|  F|           null| 24|White|       4|          3|    0|\n",
      "|        1|       Master|   Texas|  F|           null| 24|White|       3|          2|    0|\n",
      "|        1|       Master|   Texas|  F|           null| 24|White|       3|          3|    0|\n",
      "|        1|       Master|   Texas|  F|           null| 24|White|       3|          4|    0|\n",
      "|        1|       Master|   Texas|  F|           null| 24|White|       2|2.799999952|    0|\n",
      "|        1|       Master|   Texas|  F|           null| 24|White|       1|          3|    0|\n",
      "|        2|       Master|   Texas|  F|           null| 23|White|       4|          2|    0|\n",
      "|        2|       Master|   Texas|  F|           null| 23|White|       3|1.299999952|    0|\n",
      "|        2|       Master|   Texas|  F|           null| 23|White|       2|2.700000048|    0|\n",
      "|        2|       Master|   Texas|  F|           null| 23|White|       1|        2.5|    0|\n",
      "|        3|       Master|   Texas|  F|Hispanic/Latinx| 21|White|       4|1.600000024|    1|\n",
      "|        3|       Master|   Texas|  F|Hispanic/Latinx| 21|White|       3|2.400000095|    1|\n",
      "|        3|       Master|   Texas|  F|Hispanic/Latinx| 21|White|       2|0.800000012|    1|\n",
      "|        3|       Master|   Texas|  F|Hispanic/Latinx| 21|White|       1|        2.5|    1|\n",
      "|        3|       Master|   Texas|  F|Hispanic/Latinx| 21|White|       1|          1|    1|\n",
      "|        3|       Master|   Texas|  F|Hispanic/Latinx| 21|White|       1|          3|    1|\n",
      "|        3|       Master|   Texas|  F|Hispanic/Latinx| 21|White|       1|2.200000048|    1|\n",
      "|        4|Certification|Lousiana|  F|           null| 21|Black|       4|3.700000048|    1|\n",
      "|        4|Certification|Lousiana|  F|           null| 21|Black|       3|          4|    1|\n",
      "|        4|Certification|Lousiana|  F|           null| 21|Black|       2|          3|    1|\n",
      "+---------+-------------+--------+---+---------------+---+-----+--------+-----------+-----+\n",
      "only showing top 20 rows\n",
      "\n"
     ]
    }
   ],
   "source": [
    "StudentFactXEnrollmentFactXCourseGradeFact.withColumn(\"BICOP\",\n",
    "            when((StudentFactXEnrollmentFactXCourseGradeFact['race']=='Black') | (StudentFactXEnrollmentFactXCourseGradeFact['race']=='Alaska Native') | \n",
    "           (StudentFactXEnrollmentFactXCourseGradeFact['race']=='Native Hawaiian') | (StudentFactXEnrollmentFactXCourseGradeFact['race']=='Native Hawaiian ') | \n",
    "           (StudentFactXEnrollmentFactXCourseGradeFact['race']=='Pacific Islander') | (StudentFactXEnrollmentFactXCourseGradeFact['race']=='American Indian') | \n",
    "           (StudentFactXEnrollmentFactXCourseGradeFact['race']=='Asian') |\n",
    "                 (StudentFactXEnrollmentFactXCourseGradeFact.ethnicity == 'Hispanic/Latinx'), \n",
    "1).otherwise(0)).show()"
   ]
  },
  {
   "cell_type": "code",
   "execution_count": 237,
   "id": "be6e827c",
   "metadata": {
    "scrolled": true
   },
   "outputs": [
    {
     "name": "stdout",
     "output_type": "stream",
     "text": [
      "+---------+-------------+--------+---+---------------+---+-----+--------+-----------+\n",
      "|studentid|       degree|  campus|sex|      ethnicity|age| race|courseid|coursegrade|\n",
      "+---------+-------------+--------+---+---------------+---+-----+--------+-----------+\n",
      "|        1|       Master|   Texas|  F|           null| 24|White|       4|          3|\n",
      "|        1|       Master|   Texas|  F|           null| 24|White|       3|          2|\n",
      "|        1|       Master|   Texas|  F|           null| 24|White|       3|          3|\n",
      "|        1|       Master|   Texas|  F|           null| 24|White|       3|          4|\n",
      "|        1|       Master|   Texas|  F|           null| 24|White|       2|2.799999952|\n",
      "|        1|       Master|   Texas|  F|           null| 24|White|       1|          3|\n",
      "|        2|       Master|   Texas|  F|           null| 23|White|       4|          2|\n",
      "|        2|       Master|   Texas|  F|           null| 23|White|       3|1.299999952|\n",
      "|        2|       Master|   Texas|  F|           null| 23|White|       2|2.700000048|\n",
      "|        2|       Master|   Texas|  F|           null| 23|White|       1|        2.5|\n",
      "|        3|       Master|   Texas|  F|Hispanic/Latinx| 21|White|       4|1.600000024|\n",
      "|        3|       Master|   Texas|  F|Hispanic/Latinx| 21|White|       3|2.400000095|\n",
      "|        3|       Master|   Texas|  F|Hispanic/Latinx| 21|White|       2|0.800000012|\n",
      "|        3|       Master|   Texas|  F|Hispanic/Latinx| 21|White|       1|        2.5|\n",
      "|        3|       Master|   Texas|  F|Hispanic/Latinx| 21|White|       1|          1|\n",
      "|        3|       Master|   Texas|  F|Hispanic/Latinx| 21|White|       1|          3|\n",
      "|        3|       Master|   Texas|  F|Hispanic/Latinx| 21|White|       1|2.200000048|\n",
      "|        4|Certification|Lousiana|  F|           null| 21|Black|       4|3.700000048|\n",
      "|        4|Certification|Lousiana|  F|           null| 21|Black|       3|          4|\n",
      "|        4|Certification|Lousiana|  F|           null| 21|Black|       2|          3|\n",
      "+---------+-------------+--------+---+---------------+---+-----+--------+-----------+\n",
      "only showing top 20 rows\n",
      "\n"
     ]
    }
   ],
   "source": [
    "StudentFactXEnrollmentFactXCourseGradeFact.show()"
   ]
  },
  {
   "cell_type": "code",
   "execution_count": 238,
   "id": "aea21334",
   "metadata": {},
   "outputs": [
    {
     "name": "stdout",
     "output_type": "stream",
     "text": [
      "+---------+----------+--------------------+\n",
      "|studentid|questionid|            question|\n",
      "+---------+----------+--------------------+\n",
      "|        8|         2|I am satisfied wi...|\n",
      "|        8|         4|I am satisfied wi...|\n",
      "|        9|         4|I am satisfied wi...|\n",
      "|        4|         2|I am satisfied wi...|\n",
      "|        9|         2|I am satisfied wi...|\n",
      "|        3|         3|I am satisfied wi...|\n",
      "|        4|         3|I am satisfied wi...|\n",
      "|        5|         3|I am satisfied wi...|\n",
      "|        6|         3|I am satisfied wi...|\n",
      "|        9|         3|I am satisfied wi...|\n",
      "|        4|         1|I am satisfied wi...|\n",
      "|        1|         2|I am satisfied wi...|\n",
      "|        2|         2|I am satisfied wi...|\n",
      "|        3|         2|I am satisfied wi...|\n",
      "|        5|         2|I am satisfied wi...|\n",
      "|        2|         3|I am satisfied wi...|\n",
      "|        1|         4|I am satisfied wi...|\n",
      "|        2|         4|I am satisfied wi...|\n",
      "|        3|         4|I am satisfied wi...|\n",
      "|        7|         4|I am satisfied wi...|\n",
      "+---------+----------+--------------------+\n",
      "only showing top 20 rows\n",
      "\n"
     ]
    }
   ],
   "source": [
    "QuestionResponseFactXQuestionDimension = spark.sql('select QuestionResponseFact.studentid, \\\n",
    "        QuestionDimension.questionid, QuestionDimension.question \\\n",
    "        from QuestionResponseFact \\\n",
    "        inner join QuestionDimension \\\n",
    "        on QuestionResponseFact.questionid = QuestionDimension.questionid')\n",
    "QuestionResponseFactXQuestionDimension.show()"
   ]
  },
  {
   "cell_type": "markdown",
   "id": "a506edcd",
   "metadata": {},
   "source": [
    "## Second 2 last bullet point"
   ]
  },
  {
   "cell_type": "code",
   "execution_count": 239,
   "id": "3d4f0d2b",
   "metadata": {},
   "outputs": [
    {
     "data": {
      "text/plain": [
       "DataFrame[questionresponseid: string, studentid: string, questionid: string, responseid: string]"
      ]
     },
     "execution_count": 239,
     "metadata": {},
     "output_type": "execute_result"
    }
   ],
   "source": [
    "QuestionResponseFact"
   ]
  },
  {
   "cell_type": "code",
   "execution_count": 240,
   "id": "37c8eff6",
   "metadata": {},
   "outputs": [
    {
     "name": "stdout",
     "output_type": "stream",
     "text": [
      "+---------+----------+--------------------+----------+\n",
      "|studentid|questionid|            response|responseid|\n",
      "+---------+----------+--------------------+----------+\n",
      "|        8|         2|(1) Strongly disa...|         1|\n",
      "|        8|         4|(1) Strongly disa...|         1|\n",
      "|        9|         4|(1) Strongly disa...|         1|\n",
      "|        4|         2|        (2) Disagree|         2|\n",
      "|        9|         2|        (2) Disagree|         2|\n",
      "|        3|         3|        (2) Disagree|         2|\n",
      "|        4|         3|        (2) Disagree|         2|\n",
      "|        5|         3|        (2) Disagree|         2|\n",
      "|        6|         3|        (2) Disagree|         2|\n",
      "|        9|         3|        (2) Disagree|         2|\n",
      "|        4|         1|         (3) Neutral|         3|\n",
      "|        1|         2|         (3) Neutral|         3|\n",
      "|        2|         2|         (3) Neutral|         3|\n",
      "|        3|         2|         (3) Neutral|         3|\n",
      "|        5|         2|         (3) Neutral|         3|\n",
      "|        2|         3|         (3) Neutral|         3|\n",
      "|        1|         4|         (3) Neutral|         3|\n",
      "|        2|         4|         (3) Neutral|         3|\n",
      "|        3|         4|         (3) Neutral|         3|\n",
      "|        7|         4|         (3) Neutral|         3|\n",
      "+---------+----------+--------------------+----------+\n",
      "only showing top 20 rows\n",
      "\n"
     ]
    }
   ],
   "source": [
    "QuestionResponseFactXresponse = spark.sql('select QuestionResponseFact.studentid, \\\n",
    "        QuestionResponseFact.questionid, \\\n",
    "        ResponseDimension.response, ResponseDimension.responseid \\\n",
    "        from QuestionResponseFact \\\n",
    "        inner join ResponseDimension \\\n",
    "        on QuestionResponseFact.responseid = ResponseDimension.responseid')\n",
    "QuestionResponseFactXresponse.show()"
   ]
  },
  {
   "cell_type": "code",
   "execution_count": 241,
   "id": "677b6a4a",
   "metadata": {},
   "outputs": [],
   "source": [
    "from pyspark.sql.types import IntegerType\n",
    "QuestionResponseFactXresponse = QuestionResponseFactXresponse.withColumn(\"responseid\", QuestionResponseFactXresponse[\"responseid\"].cast(IntegerType()))\n"
   ]
  },
  {
   "cell_type": "markdown",
   "id": "30cb6c8f",
   "metadata": {},
   "source": [
    "### How satisfied are students with our program per survey question (i.e. instruction, operations, tuition, and communication)"
   ]
  },
  {
   "cell_type": "code",
   "execution_count": 242,
   "id": "261f3ab8",
   "metadata": {
    "scrolled": true
   },
   "outputs": [
    {
     "name": "stdout",
     "output_type": "stream",
     "text": [
      "+----------+------------------+\n",
      "|questionid|   avg(responseid)|\n",
      "+----------+------------------+\n",
      "|         3|3.2036727879799667|\n",
      "|         1|3.9382303839732886|\n",
      "|         4|3.5692821368948247|\n",
      "|         2|3.1803005008347247|\n",
      "+----------+------------------+\n",
      "\n"
     ]
    }
   ],
   "source": [
    "QuestionResponseFactXresponse.groupby(\"questionid\").avg(\"responseid\").show()"
   ]
  },
  {
   "cell_type": "markdown",
   "id": "d01212ed",
   "metadata": {},
   "source": [
    "##   "
   ]
  },
  {
   "cell_type": "markdown",
   "id": "d28e5851",
   "metadata": {},
   "source": [
    "## Also BICOP Count"
   ]
  },
  {
   "cell_type": "markdown",
   "id": "4c423d51",
   "metadata": {},
   "source": [
    "### Number of white Hispanic/Latinx"
   ]
  },
  {
   "cell_type": "code",
   "execution_count": 243,
   "id": "596f81ff",
   "metadata": {},
   "outputs": [
    {
     "data": {
      "text/plain": [
       "29"
      ]
     },
     "execution_count": 243,
     "metadata": {},
     "output_type": "execute_result"
    }
   ],
   "source": [
    "StudentFact[(StudentFact['ethnicity']=='Hispanic/Latinx') & (StudentFact['race']=='White')].count()"
   ]
  },
  {
   "cell_type": "markdown",
   "id": "ee87b8a2",
   "metadata": {},
   "source": [
    "### Number of all Hispanic/Latinx regardless of race"
   ]
  },
  {
   "cell_type": "code",
   "execution_count": 244,
   "id": "aa5d3b7e",
   "metadata": {},
   "outputs": [
    {
     "data": {
      "text/plain": [
       "55"
      ]
     },
     "execution_count": 244,
     "metadata": {},
     "output_type": "execute_result"
    }
   ],
   "source": [
    "StudentFact[StudentFact['ethnicity']=='Hispanic/Latinx'].count()"
   ]
  },
  {
   "cell_type": "markdown",
   "id": "dd7ff4f4",
   "metadata": {},
   "source": [
    "### Number of non-white Hispanic/Latinx"
   ]
  },
  {
   "cell_type": "code",
   "execution_count": 245,
   "id": "2af05474",
   "metadata": {},
   "outputs": [
    {
     "data": {
      "text/plain": [
       "26"
      ]
     },
     "execution_count": 245,
     "metadata": {},
     "output_type": "execute_result"
    }
   ],
   "source": [
    "55-29 "
   ]
  },
  {
   "cell_type": "markdown",
   "id": "6813e28f",
   "metadata": {},
   "source": [
    "## Note: In the dataset there are two Native Hawaiian . . .\n",
    "##            one with a space after and one regular"
   ]
  },
  {
   "cell_type": "code",
   "execution_count": 246,
   "id": "929107ab",
   "metadata": {},
   "outputs": [
    {
     "data": {
      "text/plain": [
       "360"
      ]
     },
     "execution_count": 246,
     "metadata": {},
     "output_type": "execute_result"
    }
   ],
   "source": [
    "StudentFact[(StudentFact['race']=='Black') | (StudentFact['race']=='Alaska Native') | \n",
    "           (StudentFact['race']=='Native Hawaiian') | (StudentFact['race']=='Native Hawaiian ') | \n",
    "           (StudentFact['race']=='Pacific Islander') | (StudentFact['race']=='American Indian') | \n",
    "           (StudentFact['race']=='Asian') ].count()"
   ]
  },
  {
   "cell_type": "markdown",
   "id": "176f1d98",
   "metadata": {},
   "source": [
    "### Number of BIPOC's with race white but ethnicity Hispanic/Latinx"
   ]
  },
  {
   "cell_type": "code",
   "execution_count": 247,
   "id": "43d411e2",
   "metadata": {},
   "outputs": [
    {
     "data": {
      "text/plain": [
       "389"
      ]
     },
     "execution_count": 247,
     "metadata": {},
     "output_type": "execute_result"
    }
   ],
   "source": [
    "360+29"
   ]
  },
  {
   "cell_type": "markdown",
   "id": "f7eb4d64",
   "metadata": {},
   "source": [
    "## Last bullet point"
   ]
  },
  {
   "cell_type": "code",
   "execution_count": 248,
   "id": "7dfb2c11",
   "metadata": {},
   "outputs": [
    {
     "name": "stdout",
     "output_type": "stream",
     "text": [
      "+---------+--------+----------------+\n",
      "|studentid|courseid|max(coursegrade)|\n",
      "+---------+--------+----------------+\n",
      "|        1|       1|               3|\n",
      "|        1|       2|     2.799999952|\n",
      "|        1|       3|               4|\n",
      "|        1|       4|               3|\n",
      "|       10|       1|     3.200000048|\n",
      "|       10|       2|     3.599999905|\n",
      "|       10|       3|     3.099999905|\n",
      "|       10|       4|     2.099999905|\n",
      "|      100|       1|     3.700000048|\n",
      "|      100|       2|     3.700000048|\n",
      "|      100|       3|     3.200000048|\n",
      "|      100|       4|     3.400000095|\n",
      "|      101|       1|     2.900000095|\n",
      "|      101|       2|     3.200000048|\n",
      "|      101|       3|     2.700000048|\n",
      "|      101|       4|               4|\n",
      "|      102|       1|     2.299999952|\n",
      "|      102|       2|     2.900000095|\n",
      "|      102|       3|     2.700000048|\n",
      "|      102|       4|               4|\n",
      "+---------+--------+----------------+\n",
      "only showing top 20 rows\n",
      "\n"
     ]
    }
   ],
   "source": [
    "spark.sql('SELECT studentid, courseid, MAX(coursegrade) FROM CourseGradeFact GROUP BY studentid, courseid;').show()"
   ]
  },
  {
   "cell_type": "markdown",
   "id": "97221688",
   "metadata": {},
   "source": [
    "## 1"
   ]
  },
  {
   "cell_type": "markdown",
   "id": "0e1ec435",
   "metadata": {},
   "source": [
    "### Avegrage\n"
   ]
  },
  {
   "cell_type": "code",
   "execution_count": 292,
   "id": "559907cc",
   "metadata": {},
   "outputs": [],
   "source": [
    "avg1 = QuestionResponseFactXresponse.groupby(\"questionid\").avg(\"responseid\")"
   ]
  },
  {
   "cell_type": "code",
   "execution_count": 293,
   "id": "c2e743e1",
   "metadata": {},
   "outputs": [
    {
     "data": {
      "text/html": [
       "<div>\n",
       "<style scoped>\n",
       "    .dataframe tbody tr th:only-of-type {\n",
       "        vertical-align: middle;\n",
       "    }\n",
       "\n",
       "    .dataframe tbody tr th {\n",
       "        vertical-align: top;\n",
       "    }\n",
       "\n",
       "    .dataframe thead th {\n",
       "        text-align: right;\n",
       "    }\n",
       "</style>\n",
       "<table border=\"1\" class=\"dataframe\">\n",
       "  <thead>\n",
       "    <tr style=\"text-align: right;\">\n",
       "      <th></th>\n",
       "      <th>questionid</th>\n",
       "      <th>avg(responseid)</th>\n",
       "    </tr>\n",
       "  </thead>\n",
       "  <tbody>\n",
       "    <tr>\n",
       "      <th>0</th>\n",
       "      <td>3</td>\n",
       "      <td>3.203673</td>\n",
       "    </tr>\n",
       "    <tr>\n",
       "      <th>1</th>\n",
       "      <td>1</td>\n",
       "      <td>3.938230</td>\n",
       "    </tr>\n",
       "    <tr>\n",
       "      <th>2</th>\n",
       "      <td>4</td>\n",
       "      <td>3.569282</td>\n",
       "    </tr>\n",
       "    <tr>\n",
       "      <th>3</th>\n",
       "      <td>2</td>\n",
       "      <td>3.180301</td>\n",
       "    </tr>\n",
       "  </tbody>\n",
       "</table>\n",
       "</div>"
      ],
      "text/plain": [
       "  questionid  avg(responseid)\n",
       "0          3         3.203673\n",
       "1          1         3.938230\n",
       "2          4         3.569282\n",
       "3          2         3.180301"
      ]
     },
     "execution_count": 293,
     "metadata": {},
     "output_type": "execute_result"
    }
   ],
   "source": [
    "avg1.toPandas()"
   ]
  },
  {
   "cell_type": "markdown",
   "id": "fbf2f0ec",
   "metadata": {},
   "source": [
    "### Sum"
   ]
  },
  {
   "cell_type": "code",
   "execution_count": 272,
   "id": "5d6e3a70",
   "metadata": {},
   "outputs": [],
   "source": [
    "sum1 = QuestionResponseFactXresponse.groupby(\"questionid\").sum(\"responseid\")"
   ]
  },
  {
   "cell_type": "code",
   "execution_count": 273,
   "id": "65e661c0",
   "metadata": {},
   "outputs": [
    {
     "data": {
      "text/html": [
       "<div>\n",
       "<style scoped>\n",
       "    .dataframe tbody tr th:only-of-type {\n",
       "        vertical-align: middle;\n",
       "    }\n",
       "\n",
       "    .dataframe tbody tr th {\n",
       "        vertical-align: top;\n",
       "    }\n",
       "\n",
       "    .dataframe thead th {\n",
       "        text-align: right;\n",
       "    }\n",
       "</style>\n",
       "<table border=\"1\" class=\"dataframe\">\n",
       "  <thead>\n",
       "    <tr style=\"text-align: right;\">\n",
       "      <th></th>\n",
       "      <th>questionid</th>\n",
       "      <th>sum(responseid)</th>\n",
       "    </tr>\n",
       "  </thead>\n",
       "  <tbody>\n",
       "    <tr>\n",
       "      <th>0</th>\n",
       "      <td>3</td>\n",
       "      <td>1919</td>\n",
       "    </tr>\n",
       "    <tr>\n",
       "      <th>1</th>\n",
       "      <td>1</td>\n",
       "      <td>2359</td>\n",
       "    </tr>\n",
       "    <tr>\n",
       "      <th>2</th>\n",
       "      <td>4</td>\n",
       "      <td>2138</td>\n",
       "    </tr>\n",
       "    <tr>\n",
       "      <th>3</th>\n",
       "      <td>2</td>\n",
       "      <td>1905</td>\n",
       "    </tr>\n",
       "  </tbody>\n",
       "</table>\n",
       "</div>"
      ],
      "text/plain": [
       "  questionid  sum(responseid)\n",
       "0          3             1919\n",
       "1          1             2359\n",
       "2          4             2138\n",
       "3          2             1905"
      ]
     },
     "execution_count": 273,
     "metadata": {},
     "output_type": "execute_result"
    }
   ],
   "source": [
    "sum1.toPandas()  "
   ]
  }
 ],
 "metadata": {
  "kernelspec": {
   "display_name": "Python 3 (ipykernel)",
   "language": "python",
   "name": "python3"
  },
  "language_info": {
   "codemirror_mode": {
    "name": "ipython",
    "version": 3
   },
   "file_extension": ".py",
   "mimetype": "text/x-python",
   "name": "python",
   "nbconvert_exporter": "python",
   "pygments_lexer": "ipython3",
   "version": "3.9.12"
  }
 },
 "nbformat": 4,
 "nbformat_minor": 5
}
